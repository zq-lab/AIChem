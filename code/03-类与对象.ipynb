{
 "cells": [
  {
   "cell_type": "markdown",
   "metadata": {},
   "source": [
    "# 万物皆对象（核心）"
   ]
  },
  {
   "cell_type": "markdown",
   "metadata": {},
   "source": [
    "## why class?\n",
    "- 更好的实现现实事物的逻辑\n",
    "- 避免重复代码\n",
    "- 程序分层，逐级调用，便于维护"
   ]
  },
  {
   "cell_type": "code",
   "execution_count": 1,
   "metadata": {},
   "outputs": [],
   "source": [
    "# 自定义类\n",
    "class Car:\n",
    "    brand = ''\n",
    "    model = ''\n",
    "    power = 0.0\n",
    "    \n",
    "    def __init__(self,brand,model,power):\n",
    "        self.brand = brand\n",
    "        self.model = model\n",
    "        self.power = power\n",
    "    \n",
    "    def start(self):\n",
    "        print(self.brand + self.model + '发动引擎')\n",
    "        \n",
    "    def stop(self):\n",
    "        print(self.brand + self.model +'刹车、熄火、拉手刹')"
   ]
  },
  {
   "cell_type": "code",
   "execution_count": 2,
   "metadata": {},
   "outputs": [
    {
     "name": "stdout",
     "output_type": "stream",
     "text": [
      "红旗H9发动引擎\n",
      "红旗H9刹车、熄火、拉手刹\n"
     ]
    }
   ],
   "source": [
    "# 创建对象\n",
    "mycar = Car('红旗','H9',252.0)\n",
    "mycar.start()\n",
    "mycar.stop()"
   ]
  },
  {
   "cell_type": "code",
   "execution_count": 7,
   "metadata": {},
   "outputs": [
    {
     "name": "stdout",
     "output_type": "stream",
     "text": [
      "大众迈腾发动引擎\n",
      "大众迈腾刹车、熄火、拉手刹\n"
     ]
    }
   ],
   "source": [
    "mycar2 = Car('大众','迈腾','2.0')\n",
    "mycar2.start()\n",
    "mycar2.stop()"
   ]
  },
  {
   "cell_type": "code",
   "execution_count": 13,
   "metadata": {},
   "outputs": [],
   "source": [
    "class Car2(Car):\n",
    "        \n",
    "    def open_win(self):\n",
    "        print('打开天窗')\n",
    "        \n",
    "    def close_win(self):\n",
    "        print('关闭天窗')\n",
    "        \n",
    "    def start(self):\n",
    "        print(self.brand + self.model + '嗡嗡')\n",
    "        "
   ]
  },
  {
   "cell_type": "code",
   "execution_count": 14,
   "metadata": {},
   "outputs": [
    {
     "name": "stdout",
     "output_type": "stream",
     "text": [
      "打开天窗\n",
      "福特探险者嗡嗡\n",
      "福特探险者刹车、熄火、拉手刹\n"
     ]
    }
   ],
   "source": [
    "mycar3 = Car2('福特','探险者', 5.0)\n",
    "mycar3.open_win()\n",
    "mycar3.start()\n",
    "mycar3.stop()"
   ]
  },
  {
   "cell_type": "code",
   "execution_count": 15,
   "metadata": {},
   "outputs": [
    {
     "data": {
      "text/plain": [
       "'福特'"
      ]
     },
     "execution_count": 15,
     "metadata": {},
     "output_type": "execute_result"
    }
   ],
   "source": [
    "mycar3.brand"
   ]
  },
  {
   "cell_type": "code",
   "execution_count": 16,
   "metadata": {},
   "outputs": [
    {
     "data": {
      "text/plain": [
       "'I am Mike; I am 20 years old'"
      ]
     },
     "execution_count": 16,
     "metadata": {},
     "output_type": "execute_result"
    }
   ],
   "source": [
    "# class 有自己的方法\n",
    "class Person:\n",
    "    name = ''\n",
    "    age = 0\n",
    "    gender = ''\n",
    "    \n",
    "    #初始化方法，名称是固定的，必须是__init__,会被自动调用\n",
    "    # 第一个变量，self是必须的,指的是自身\n",
    "    def __init__(self,name,age,gender):\n",
    "        self.name = name\n",
    "        self.age =age\n",
    "        self.gender = gender\n",
    "    \n",
    "    # 增加功能，self是必须写的\n",
    "    def speak(self):\n",
    "        return 'I am ' + self.name + '; I am ' + str(self.age) + ' years old'\n",
    "\n",
    "mike = Person('Mike',20,'male') #实例化对象\n",
    "mike.speak()"
   ]
  },
  {
   "cell_type": "markdown",
   "metadata": {},
   "source": [
    "**万物皆对象**\n",
    "- 这里的Person是**类**，是某类事物所具备的特征和功能，特征被抽提为属性，功能被转化为函数。\n",
    "- mike是一个具体的Person，叫**对象**\n",
    "- 程序开发的本质就是将要处理的事情抽提为不同的类，实例化的类按流程出现。类设计的好，代码结构会很清晰，而且容易维护。\n",
    "- 数据分析中也会使用各种类（DataFrame等），这些基本上都设计好了，就看我们如何调用了。\n",
    "- 如果你有了新的思路，为减少代码量也可以升级原有的类\n"
   ]
  },
  {
   "cell_type": "code",
   "execution_count": 17,
   "metadata": {},
   "outputs": [
    {
     "data": {
      "text/plain": [
       "'I am 蜘蛛人; I am 22 years old'"
      ]
     },
     "execution_count": 17,
     "metadata": {},
     "output_type": "execute_result"
    }
   ],
   "source": [
    "# class是可以升级的，所以你可以轻松的站在别人的肩膀上\n",
    "#建立在person的基础上，person类有的，子类都有\n",
    "#只负责写好不一样的地方（属性，方法）\n",
    "class Superman(Person):\n",
    "    def fly(self):\n",
    "        return 'I can fly....duang....'\n",
    "\n",
    "spi = Superman('蜘蛛人', 22,'male')\n",
    "spi.speak()\n",
    "# 直接继承了父类所有的属性与方法"
   ]
  },
  {
   "cell_type": "code",
   "execution_count": 19,
   "metadata": {},
   "outputs": [
    {
     "data": {
      "text/plain": [
       "'I can fly....duang....'"
      ]
     },
     "execution_count": 19,
     "metadata": {},
     "output_type": "execute_result"
    }
   ],
   "source": [
    "spi.fly()"
   ]
  },
  {
   "cell_type": "code",
   "execution_count": 20,
   "metadata": {},
   "outputs": [
    {
     "data": {
      "text/plain": [
       "'我是超人，我一般不讲话'"
      ]
     },
     "execution_count": 20,
     "metadata": {},
     "output_type": "execute_result"
    }
   ],
   "source": [
    "# 父类方法也可以被覆盖，形成新的功能\n",
    "# 都会说话，但说话方式不一样\n",
    "class Superman(Person):\n",
    "    def fly(self):\n",
    "        return 'I can fly....duang....'\n",
    "    def speak(self):\n",
    "        return '我是超人，我一般不讲话'\n",
    "    \n",
    "spiderman = Superman('蜘蛛人', 22,'male')\n",
    "spiderman.speak()"
   ]
  },
  {
   "cell_type": "markdown",
   "metadata": {},
   "source": [
    "- spiderman会首先从自己的类（Superman）中找speak方法，有就执行，没有就去父类找\n",
    "- 父类还没有，就去父类的父类找\n",
    "- 找到Object这个总根上还是找不到，就报错了\n",
    "- 这是**继承**的特性，好处是减少重复代码，也方便使用他人的代码，代码结构简单清晰\n",
    "- 坏处是，会带来性能损耗\n",
    "- 很多时候，高级功能比性能损耗更重要\n",
    "- python语言，面向的是规模化数据、数学运算、自然语言处理等，所以成了数据分析、人工智能的首选\n",
    "- C、C++注重效能，成了底层操作系统开发的首选"
   ]
  },
  {
   "cell_type": "markdown",
   "metadata": {},
   "source": [
    "闭源，不长久\n",
    "C家族的语言都是开源，也是主流：perl，C，C++，java，C#(开源的)，python，PHP\n",
    "都有类的概念"
   ]
  },
  {
   "cell_type": "markdown",
   "metadata": {},
   "source": [
    "## 5.2 类的继承"
   ]
  },
  {
   "cell_type": "code",
   "execution_count": null,
   "metadata": {},
   "outputs": [],
   "source": [
    "多态性\n",
    "统一接口\n",
    "R语言，没有类\n",
    "javascript"
   ]
  },
  {
   "cell_type": "markdown",
   "metadata": {},
   "source": [
    "## 5.3 通过继承改装已有类"
   ]
  },
  {
   "cell_type": "code",
   "execution_count": null,
   "metadata": {},
   "outputs": [],
   "source": []
  },
  {
   "cell_type": "code",
   "execution_count": null,
   "metadata": {},
   "outputs": [],
   "source": []
  }
 ],
 "metadata": {
  "kernelspec": {
   "display_name": "Python 3",
   "language": "python",
   "name": "python3"
  },
  "language_info": {
   "codemirror_mode": {
    "name": "ipython",
    "version": 3
   },
   "file_extension": ".py",
   "mimetype": "text/x-python",
   "name": "python",
   "nbconvert_exporter": "python",
   "pygments_lexer": "ipython3",
   "version": "3.7.6"
  }
 },
 "nbformat": 4,
 "nbformat_minor": 4
}
